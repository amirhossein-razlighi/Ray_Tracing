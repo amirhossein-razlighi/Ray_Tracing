{
 "cells": [
  {
   "cell_type": "markdown",
   "metadata": {},
   "source": [
    "# Ray Tracing from  base in Python"
   ]
  },
  {
   "cell_type": "code",
   "execution_count": 2,
   "metadata": {},
   "outputs": [],
   "source": [
    "import numpy as np\n",
    "import matplotlib.pyplot as plt\n",
    "from tqdm import tqdm\n",
    "\n",
    "width = 300\n",
    "height = 200"
   ]
  },
  {
   "cell_type": "markdown",
   "metadata": {},
   "source": [
    "## Defining the objects and light sources"
   ]
  },
  {
   "cell_type": "code",
   "execution_count": 7,
   "metadata": {},
   "outputs": [],
   "source": [
    "# Define the objects present in the scene\n",
    "objects = [\n",
    "    {\n",
    "        \"center\": np.array([-0.2, 0, -1]),\n",
    "        \"radius\": 0.7,\n",
    "        \"ambient\": np.array([0.1, 0, 0]),\n",
    "        \"diffuse\": np.array([0.7, 0, 0]),\n",
    "        \"specular\": np.array([1, 1, 1]),\n",
    "        \"shininess\": 100,\n",
    "    },\n",
    "    {\n",
    "        \"center\": np.array([0.1, -0.3, 0]),\n",
    "        \"radius\": 0.1,\n",
    "        \"ambient\": np.array([0.1, 0, 0.1]),\n",
    "        \"diffuse\": np.array([0.7, 0, 0.7]),\n",
    "        \"specular\": np.array([1, 1, 1]),\n",
    "        \"shininess\": 100,\n",
    "    },\n",
    "    {\n",
    "        \"center\": np.array([-0.3, 0, 0]),\n",
    "        \"radius\": 0.15,\n",
    "        \"ambient\": np.array([0, 0.1, 0]),\n",
    "        \"diffuse\": np.array([0, 0.6, 0]),\n",
    "        \"specular\": np.array([1, 1, 1]),\n",
    "        \"shininess\": 100,\n",
    "    },\n",
    "]\n",
    "# Define the light source\n",
    "light = {\n",
    "    \"position\": np.array([5, 5, 5]),\n",
    "    \"ambient\": np.array([1, 1, 1]),\n",
    "    \"diffuse\": np.array([1, 1, 1]),\n",
    "    \"specular\": np.array([1, 1, 1]),\n",
    "}\n",
    "\n",
    "camera = np.array([0, 0, 1])\n",
    "ratio = 1.0 * width / height\n",
    "screen = (-1, 1.0 / ratio, 1, -1.0 / ratio)  # left, top, right, bottom"
   ]
  },
  {
   "cell_type": "markdown",
   "metadata": {},
   "source": [
    "## Do the ray tracing"
   ]
  },
  {
   "cell_type": "code",
   "execution_count": 8,
   "metadata": {},
   "outputs": [],
   "source": [
    "def get_sphere_intersect(sphere_center, sphere_radius, ray_origin, ray_direction):\n",
    "    \"\"\"\n",
    "    Return the closest intersection point between the ray and the sphere\n",
    "    \"\"\"\n",
    "    a = np.linalg.norm(ray_direction) ** 2  # if normalized, this is 1\n",
    "    b = 2 * np.dot(ray_direction, ray_origin - sphere_center)\n",
    "    c = np.linalg.norm(ray_origin - sphere_center) ** 2 - sphere_radius**2\n",
    "    delta = b**2 - 4 * a * c\n",
    "\n",
    "    if delta > 0:\n",
    "        t1 = (-b - np.sqrt(delta)) / (2 * a)\n",
    "        t2 = (-b + np.sqrt(delta)) / (2 * a)\n",
    "\n",
    "        if t1 > 0 and t2 > 0:  # check if the intersection is in front of the camera\n",
    "            return min(t1, t2)  # return the closest intersection point\n",
    "\n",
    "    return None\n",
    "\n",
    "\n",
    "def nearest_intersected_object(objects, ray_origin, ray_direction):\n",
    "    \"\"\"\n",
    "    Return the nearest object and its intersection point with the ray\n",
    "    \"\"\"\n",
    "    distances = [\n",
    "        get_sphere_intersect(obj[\"center\"], obj[\"radius\"], ray_origin, ray_direction)\n",
    "        for obj in objects\n",
    "    ]\n",
    "    nearest_object = None\n",
    "    min_distance = np.inf\n",
    "\n",
    "    for index, distance in enumerate(distances):\n",
    "        if distance and distance < min_distance:\n",
    "            min_distance = distance\n",
    "            nearest_object = objects[index]\n",
    "\n",
    "    return nearest_object, min_distance\n",
    "\n",
    "\n",
    "def ray_tracing():\n",
    "    image = np.zeros((height, width, 3))\n",
    "\n",
    "    for i, y in tqdm(enumerate(np.linspace(screen[1], screen[3], height))):\n",
    "        for j, x in enumerate(np.linspace(screen[0], screen[2], width)):\n",
    "            pixel = np.array([x, y, 0])\n",
    "            direction = pixel - camera\n",
    "            direction /= np.linalg.norm(direction)  # normalize\n",
    "\n",
    "            # Find the nearest intersection\n",
    "            nearest_object, min_distance = nearest_intersected_object(\n",
    "                objects, camera, direction\n",
    "            )\n",
    "\n",
    "            if nearest_object is None:\n",
    "                continue\n",
    "\n",
    "            intersection = camera + min_distance * direction\n",
    "\n",
    "            # find the normal to the intersection point\n",
    "            normal_to_surface = intersection - nearest_object[\"center\"]\n",
    "            normal_to_surface /= np.linalg.norm(normal_to_surface)  # normalize\n",
    "\n",
    "            # find the unit direction vector from the intersection point to the light source\n",
    "            light_direction = light[\"position\"] - intersection\n",
    "            light_direction /= np.linalg.norm(light_direction)  # normalize\n",
    "\n",
    "            _, min_distance = nearest_intersected_object(\n",
    "                objects, intersection, light_direction\n",
    "            )\n",
    "            intersect_to_light_dist = np.linalg.norm(light[\"position\"] - intersection)\n",
    "            is_shadowed = min_distance < intersect_to_light_dist\n",
    "\n",
    "            if is_shadowed:\n",
    "                continue\n",
    "\n",
    "            # RGB using Blenn-Phong model\n",
    "            illumination = np.zeros((3))\n",
    "\n",
    "            # add ambient\n",
    "            illumination += nearest_object[\"ambient\"] * light[\"ambient\"]\n",
    "\n",
    "            # add diffuse\n",
    "            illumination += (\n",
    "                nearest_object[\"diffuse\"]\n",
    "                * light[\"diffuse\"]\n",
    "                * np.dot(light_direction, normal_to_surface)\n",
    "            )\n",
    "\n",
    "            # add specular\n",
    "            intersect_to_camera = camera - intersection\n",
    "            intersect_to_camera /= np.linalg.norm(intersect_to_camera)  # normalize\n",
    "\n",
    "            H = intersect_to_camera + light_direction\n",
    "            H /= np.linalg.norm(H)  # normalize\n",
    "\n",
    "            illumination += (\n",
    "                nearest_object[\"specular\"]\n",
    "                * light[\"specular\"]\n",
    "                * np.dot(normal_to_surface, H) ** (nearest_object[\"shininess\"] / 4)\n",
    "            )\n",
    "\n",
    "            # set the pixel color\n",
    "            image[i, j] = np.clip(illumination, 0, 1)\n",
    "\n",
    "    plt.imshow(image)\n",
    "    plt.show()\n",
    "    return image"
   ]
  },
  {
   "cell_type": "code",
   "execution_count": 9,
   "metadata": {},
   "outputs": [
    {
     "name": "stderr",
     "output_type": "stream",
     "text": [
      "200it [00:01, 142.28it/s]\n"
     ]
    },
    {
     "data": {
      "image/png": "[encoded data removed]",
      "text/plain": [
       "<Figure size 640x480 with 1 Axes>"
      ]
     },
     "metadata": {},
     "output_type": "display_data"
    }
   ],
   "source": [
    "image = ray_tracing()"
   ]
  },
  {
   "cell_type": "markdown",
   "metadata": {},
   "source": [
    "## Visualize the environment in 3D"
   ]
  },
  {
   "cell_type": "code",
   "execution_count": null,
   "metadata": {},
   "outputs": [],
   "source": [
    "%pip install plotly nbformat"
   ]
  },
  {
   "cell_type": "code",
   "execution_count": 31,
   "metadata": {},
   "outputs": [
    {
     "data": {
      "application/vnd.plotly.v1+json": {
       "config": {
        "plotlyServerURL": "https://plot.ly"
       },
       "data": [
        {
         "marker": {
          "color": "lightpink",
          "size": 35
         },
         "mode": "markers",
         "name": "sphere",
         "type": "scatter3d",
         "x": [
          -0.2
         ],
         "y": [
          0
         ],
         "z": [
          -1
         ]
        },
        {
         "marker": {
          "color": "lightpink",
          "size": 5
         },
         "mode": "markers",
         "name": "sphere",
         "type": "scatter3d",
         "x": [
          0.1
         ],
         "y": [
          -0.3
         ],
         "z": [
          0
         ]
        },
        {
         "marker": {
          "color": "lightpink",
          "size": 7.5
         },
         "mode": "markers",
         "name": "sphere",
         "type": "scatter3d",
         "x": [
          -0.3
         ],
         "y": [
          0
         ],
         "z": [
          0
         ]
        },
        {
         "color": "gray",
         "name": "image plane",
         "opacity": 0.5,
         "type": "mesh3d",
         "x": [
          -1,
          -1,
          1,
          1
         ],
         "y": [
          0.6666666666666666,
          -0.6666666666666666,
          0.6666666666666666,
          -0.6666666666666666
         ],
         "z": [
          0,
          0,
          0,
          0
         ]
        },
        {
         "marker": {
          "color": "yellow",
          "size": 10
         },
         "mode": "markers",
         "name": "light source",
         "type": "scatter3d",
         "x": [
          5
         ],
         "y": [
          5
         ],
         "z": [
          5
         ]
        }
       ],
       "layout": {
        "scene": {
         "camera": {
          "eye": {
           "x": 0,
           "y": 0,
           "z": 1
          }
         }
        },
        "template": {
         "data": {
          "bar": [
           {
            "error_x": {
             "color": "#2a3f5f"
            },
            "error_y": {
             "color": "#2a3f5f"
            },
            "marker": {
             "line": {
              "color": "#E5ECF6",
              "width": 0.5
             },
             "pattern": {
              "fillmode": "overlay",
              "size": 10,
              "solidity": 0.2
             }
            },
            "type": "bar"
           }
          ],
          "barpolar": [
           {
            "marker": {
             "line": {
              "color": "#E5ECF6",
              "width": 0.5
             },
             "pattern": {
              "fillmode": "overlay",
              "size": 10,
              "solidity": 0.2
             }
            },
            "type": "barpolar"
           }
          ],
          "carpet": [
           {
            "aaxis": {
             "endlinecolor": "#2a3f5f",
             "gridcolor": "white",
             "linecolor": "white",
             "minorgridcolor": "white",
             "startlinecolor": "#2a3f5f"
            },
            "baxis": {
             "endlinecolor": "#2a3f5f",
             "gridcolor": "white",
             "linecolor": "white",
             "minorgridcolor": "white",
             "startlinecolor": "#2a3f5f"
            },
            "type": "carpet"
           }
          ],
          "choropleth": [
           {
            "colorbar": {
             "outlinewidth": 0,
             "ticks": ""
            },
            "type": "choropleth"
           }
          ],
          "contour": [
           {
            "colorbar": {
             "outlinewidth": 0,
             "ticks": ""
            },
            "colorscale": [
             [
              0,
              "#0d0887"
             ],
             [
              0.1111111111111111,
              "#46039f"
             ],
             [
              0.2222222222222222,
              "#7201a8"
             ],
             [
              0.3333333333333333,
              "#9c179e"
             ],
             [
              0.4444444444444444,
              "#bd3786"
             ],
             [
              0.5555555555555556,
              "#d8576b"
             ],
             [
              0.6666666666666666,
              "#ed7953"
             ],
             [
              0.7777777777777778,
              "#fb9f3a"
             ],
             [
              0.8888888888888888,
              "#fdca26"
             ],
             [
              1,
              "#f0f921"
             ]
            ],
            "type": "contour"
           }
          ],
          "contourcarpet": [
           {
            "colorbar": {
             "outlinewidth": 0,
             "ticks": ""
            },
            "type": "contourcarpet"
           }
          ],
          "heatmap": [
           {
            "colorbar": {
             "outlinewidth": 0,
             "ticks": ""
            },
            "colorscale": [
             [
              0,
              "#0d0887"
             ],
             [
              0.1111111111111111,
              "#46039f"
             ],
             [
              0.2222222222222222,
              "#7201a8"
             ],
             [
              0.3333333333333333,
              "#9c179e"
             ],
             [
              0.4444444444444444,
              "#bd3786"
             ],
             [
              0.5555555555555556,
              "#d8576b"
             ],
             [
              0.6666666666666666,
              "#ed7953"
             ],
             [
              0.7777777777777778,
              "#fb9f3a"
             ],
             [
              0.8888888888888888,
              "#fdca26"
             ],
             [
              1,
              "#f0f921"
             ]
            ],
            "type": "heatmap"
           }
          ],
          "heatmapgl": [
           {
            "colorbar": {
             "outlinewidth": 0,
             "ticks": ""
            },
            "colorscale": [
             [
              0,
              "#0d0887"
             ],
             [
              0.1111111111111111,
              "#46039f"
             ],
             [
              0.2222222222222222,
              "#7201a8"
             ],
             [
              0.3333333333333333,
              "#9c179e"
             ],
             [
              0.4444444444444444,
              "#bd3786"
             ],
             [
              0.5555555555555556,
              "#d8576b"
             ],
             [
              0.6666666666666666,
              "#ed7953"
             ],
             [
              0.7777777777777778,
              "#fb9f3a"
             ],
             [
              0.8888888888888888,
              "#fdca26"
             ],
             [
              1,
              "#f0f921"
             ]
            ],
            "type": "heatmapgl"
           }
          ],
          "histogram": [
           {
            "marker": {
             "pattern": {
              "fillmode": "overlay",
              "size": 10,
              "solidity": 0.2
             }
            },
            "type": "histogram"
           }
          ],
          "histogram2d": [
           {
            "colorbar": {
             "outlinewidth": 0,
             "ticks": ""
            },
            "colorscale": [
             [
              0,
              "#0d0887"
             ],
             [
              0.1111111111111111,
              "#46039f"
             ],
             [
              0.2222222222222222,
              "#7201a8"
             ],
             [
              0.3333333333333333,
              "#9c179e"
             ],
             [
              0.4444444444444444,
              "#bd3786"
             ],
             [
              0.5555555555555556,
              "#d8576b"
             ],
             [
              0.6666666666666666,
              "#ed7953"
             ],
             [
              0.7777777777777778,
              "#fb9f3a"
             ],
             [
              0.8888888888888888,
              "#fdca26"
             ],
             [
              1,
              "#f0f921"
             ]
            ],
            "type": "histogram2d"
           }
          ],
          "histogram2dcontour": [
           {
            "colorbar": {
             "outlinewidth": 0,
             "ticks": ""
            },
            "colorscale": [
             [
              0,
              "#0d0887"
             ],
             [
              0.1111111111111111,
              "#46039f"
             ],
             [
              0.2222222222222222,
              "#7201a8"
             ],
             [
              0.3333333333333333,
              "#9c179e"
             ],
             [
              0.4444444444444444,
              "#bd3786"
             ],
             [
              0.5555555555555556,
              "#d8576b"
             ],
             [
              0.6666666666666666,
              "#ed7953"
             ],
             [
              0.7777777777777778,
              "#fb9f3a"
             ],
             [
              0.8888888888888888,
              "#fdca26"
             ],
             [
              1,
              "#f0f921"
             ]
            ],
            "type": "histogram2dcontour"
           }
          ],
          "mesh3d": [
           {
            "colorbar": {
             "outlinewidth": 0,
             "ticks": ""
            },
            "type": "mesh3d"
           }
          ],
          "parcoords": [
           {
            "line": {
             "colorbar": {
              "outlinewidth": 0,
              "ticks": ""
             }
            },
            "type": "parcoords"
           }
          ],
          "pie": [
           {
            "automargin": true,
            "type": "pie"
           }
          ],
          "scatter": [
           {
            "fillpattern": {
             "fillmode": "overlay",
             "size": 10,
             "solidity": 0.2
            },
            "type": "scatter"
           }
          ],
          "scatter3d": [
           {
            "line": {
             "colorbar": {
              "outlinewidth": 0,
              "ticks": ""
             }
            },
            "marker": {
             "colorbar": {
              "outlinewidth": 0,
              "ticks": ""
             }
            },
            "type": "scatter3d"
           }
          ],
          "scattercarpet": [
           {
            "marker": {
             "colorbar": {
              "outlinewidth": 0,
              "ticks": ""
             }
            },
            "type": "scattercarpet"
           }
          ],
          "scattergeo": [
           {
            "marker": {
             "colorbar": {
              "outlinewidth": 0,
              "ticks": ""
             }
            },
            "type": "scattergeo"
           }
          ],
          "scattergl": [
           {
            "marker": {
             "colorbar": {
              "outlinewidth": 0,
              "ticks": ""
             }
            },
            "type": "scattergl"
           }
          ],
          "scattermapbox": [
           {
            "marker": {
             "colorbar": {
              "outlinewidth": 0,
              "ticks": ""
             }
            },
            "type": "scattermapbox"
           }
          ],
          "scatterpolar": [
           {
            "marker": {
             "colorbar": {
              "outlinewidth": 0,
              "ticks": ""
             }
            },
            "type": "scatterpolar"
           }
          ],
          "scatterpolargl": [
           {
            "marker": {
             "colorbar": {
              "outlinewidth": 0,
              "ticks": ""
             }
            },
            "type": "scatterpolargl"
           }
          ],
          "scatterternary": [
           {
            "marker": {
             "colorbar": {
              "outlinewidth": 0,
              "ticks": ""
             }
            },
            "type": "scatterternary"
           }
          ],
          "surface": [
           {
            "colorbar": {
             "outlinewidth": 0,
             "ticks": ""
            },
            "colorscale": [
             [
              0,
              "#0d0887"
             ],
             [
              0.1111111111111111,
              "#46039f"
             ],
             [
              0.2222222222222222,
              "#7201a8"
             ],
             [
              0.3333333333333333,
              "#9c179e"
             ],
             [
              0.4444444444444444,
              "#bd3786"
             ],
             [
              0.5555555555555556,
              "#d8576b"
             ],
             [
              0.6666666666666666,
              "#ed7953"
             ],
             [
              0.7777777777777778,
              "#fb9f3a"
             ],
             [
              0.8888888888888888,
              "#fdca26"
             ],
             [
              1,
              "#f0f921"
             ]
            ],
            "type": "surface"
           }
          ],
          "table": [
           {
            "cells": {
             "fill": {
              "color": "#EBF0F8"
             },
             "line": {
              "color": "white"
             }
            },
            "header": {
             "fill": {
              "color": "#C8D4E3"
             },
             "line": {
              "color": "white"
             }
            },
            "type": "table"
           }
          ]
         },
         "layout": {
          "annotationdefaults": {
           "arrowcolor": "#2a3f5f",
           "arrowhead": 0,
           "arrowwidth": 1
          },
          "autotypenumbers": "strict",
          "coloraxis": {
           "colorbar": {
            "outlinewidth": 0,
            "ticks": ""
           }
          },
          "colorscale": {
           "diverging": [
            [
             0,
             "#8e0152"
            ],
            [
             0.1,
             "#c51b7d"
            ],
            [
             0.2,
             "#de77ae"
            ],
            [
             0.3,
             "#f1b6da"
            ],
            [
             0.4,
             "#fde0ef"
            ],
            [
             0.5,
             "#f7f7f7"
            ],
            [
             0.6,
             "#e6f5d0"
            ],
            [
             0.7,
             "#b8e186"
            ],
            [
             0.8,
             "#7fbc41"
            ],
            [
             0.9,
             "#4d9221"
            ],
            [
             1,
             "#276419"
            ]
           ],
           "sequential": [
            [
             0,
             "#0d0887"
            ],
            [
             0.1111111111111111,
             "#46039f"
            ],
            [
             0.2222222222222222,
             "#7201a8"
            ],
            [
             0.3333333333333333,
             "#9c179e"
            ],
            [
             0.4444444444444444,
             "#bd3786"
            ],
            [
             0.5555555555555556,
             "#d8576b"
            ],
            [
             0.6666666666666666,
             "#ed7953"
            ],
            [
             0.7777777777777778,
             "#fb9f3a"
            ],
            [
             0.8888888888888888,
             "#fdca26"
            ],
            [
             1,
             "#f0f921"
            ]
           ],
           "sequentialminus": [
            [
             0,
             "#0d0887"
            ],
            [
             0.1111111111111111,
             "#46039f"
            ],
            [
             0.2222222222222222,
             "#7201a8"
            ],
            [
             0.3333333333333333,
             "#9c179e"
            ],
            [
             0.4444444444444444,
             "#bd3786"
            ],
            [
             0.5555555555555556,
             "#d8576b"
            ],
            [
             0.6666666666666666,
             "#ed7953"
            ],
            [
             0.7777777777777778,
             "#fb9f3a"
            ],
            [
             0.8888888888888888,
             "#fdca26"
            ],
            [
             1,
             "#f0f921"
            ]
           ]
          },
          "colorway": [
           "#636efa",
           "#EF553B",
           "#00cc96",
           "#ab63fa",
           "#FFA15A",
           "#19d3f3",
           "#FF6692",
           "#B6E880",
           "#FF97FF",
           "#FECB52"
          ],
          "font": {
           "color": "#2a3f5f"
          },
          "geo": {
           "bgcolor": "white",
           "lakecolor": "white",
           "landcolor": "#E5ECF6",
           "showlakes": true,
           "showland": true,
           "subunitcolor": "white"
          },
          "hoverlabel": {
           "align": "left"
          },
          "hovermode": "closest",
          "mapbox": {
           "style": "light"
          },
          "paper_bgcolor": "white",
          "plot_bgcolor": "#E5ECF6",
          "polar": {
           "angularaxis": {
            "gridcolor": "white",
            "linecolor": "white",
            "ticks": ""
           },
           "bgcolor": "#E5ECF6",
           "radialaxis": {
            "gridcolor": "white",
            "linecolor": "white",
            "ticks": ""
           }
          },
          "scene": {
           "xaxis": {
            "backgroundcolor": "#E5ECF6",
            "gridcolor": "white",
            "gridwidth": 2,
            "linecolor": "white",
            "showbackground": true,
            "ticks": "",
            "zerolinecolor": "white"
           },
           "yaxis": {
            "backgroundcolor": "#E5ECF6",
            "gridcolor": "white",
            "gridwidth": 2,
            "linecolor": "white",
            "showbackground": true,
            "ticks": "",
            "zerolinecolor": "white"
           },
           "zaxis": {
            "backgroundcolor": "#E5ECF6",
            "gridcolor": "white",
            "gridwidth": 2,
            "linecolor": "white",
            "showbackground": true,
            "ticks": "",
            "zerolinecolor": "white"
           }
          },
          "shapedefaults": {
           "line": {
            "color": "#2a3f5f"
           }
          },
          "ternary": {
           "aaxis": {
            "gridcolor": "white",
            "linecolor": "white",
            "ticks": ""
           },
           "baxis": {
            "gridcolor": "white",
            "linecolor": "white",
            "ticks": ""
           },
           "bgcolor": "#E5ECF6",
           "caxis": {
            "gridcolor": "white",
            "linecolor": "white",
            "ticks": ""
           }
          },
          "title": {
           "x": 0.05
          },
          "xaxis": {
           "automargin": true,
           "gridcolor": "white",
           "linecolor": "white",
           "ticks": "",
           "title": {
            "standoff": 15
           },
           "zerolinecolor": "white",
           "zerolinewidth": 2
          },
          "yaxis": {
           "automargin": true,
           "gridcolor": "white",
           "linecolor": "white",
           "ticks": "",
           "title": {
            "standoff": 15
           },
           "zerolinecolor": "white",
           "zerolinewidth": 2
          }
         }
        }
       }
      }
     },
     "metadata": {},
     "output_type": "display_data"
    }
   ],
   "source": [
    "import plotly.graph_objects as go\n",
    "\n",
    "fig = go.Figure()\n",
    "\n",
    "# set the main camera at the camera_origin\n",
    "fig.update_layout(scene_camera_eye=dict(x=camera[0], y=camera[1], z=camera[2]))\n",
    "\n",
    "# Show the objects\n",
    "for obj in objects:\n",
    "    fig.add_trace(\n",
    "        # Plot the sphere\n",
    "        go.Scatter3d(\n",
    "            x=[obj[\"center\"][0]],\n",
    "            y=[obj[\"center\"][1]],\n",
    "            z=[obj[\"center\"][2]],\n",
    "            mode=\"markers\",\n",
    "            marker=dict(color=\"lightpink\", size=obj[\"radius\"] * 50),\n",
    "            name=\"sphere\",\n",
    "        )\n",
    "    )\n",
    "\n",
    "# Show the image screen as a plane with low opacity\n",
    "fig.add_trace(\n",
    "    go.Mesh3d(\n",
    "        x=[screen[0], screen[0], screen[2], screen[2]],\n",
    "        y=[screen[1], screen[3], screen[1], screen[3]],\n",
    "        z=[0, 0, 0, 0],\n",
    "        opacity=0.5,\n",
    "        color=\"gray\",\n",
    "        name=\"image plane\",\n",
    "    )\n",
    ")\n",
    "\n",
    "# Show the light source as a yellow sphere\n",
    "fig.add_trace(\n",
    "    go.Scatter3d(\n",
    "        x=[light[\"position\"][0]],\n",
    "        y=[light[\"position\"][1]],\n",
    "        z=[light[\"position\"][2]],\n",
    "        mode=\"markers\",\n",
    "        marker=dict(color=\"yellow\", size=10),\n",
    "        name=\"light source\",\n",
    "    )\n",
    ")\n",
    "fig.show()"
   ]
  }
 ],
 "metadata": {
  "kernelspec": {
   "display_name": "Python 3",
   "language": "python",
   "name": "python3"
  },
  "language_info": {
   "codemirror_mode": {
    "name": "ipython",
    "version": 3
   },
   "file_extension": ".py",
   "mimetype": "text/x-python",
   "name": "python",
   "nbconvert_exporter": "python",
   "pygments_lexer": "ipython3",
   "version": "3.10.8"
  },
  "orig_nbformat": 4
 },
 "nbformat": 4,
 "nbformat_minor": 2
}
